{
 "cells": [
  {
   "cell_type": "code",
   "execution_count": 1,
   "metadata": {
    "collapsed": false,
    "deletable": true,
    "editable": true
   },
   "outputs": [
    {
     "name": "stdout",
     "output_type": "stream",
     "text": [
      "image 1: mode P, size (500, 370)\n",
      "image 2: mode P, size (500, 370)\n",
      "image 3: mode P, size (500, 370)\n",
      "image 4: mode P, size (500, 370)\n",
      "image 5: mode P, size (500, 370)\n",
      "image 6: mode P, size (500, 370)\n",
      "image 7: mode P, size (500, 370)\n",
      "image 8: mode P, size (500, 370)\n",
      "image 9: mode P, size (500, 370)\n",
      "image 10: mode P, size (500, 370)\n",
      "image 11: mode P, size (500, 370)\n",
      "image 12: mode P, size (500, 370)\n",
      "image 13: mode P, size (500, 370)\n",
      "image 14: mode P, size (500, 370)\n",
      "image 15: mode P, size (500, 370)\n"
     ]
    }
   ],
   "source": [
    "from PIL import Image, ImageSequence\n",
    "#\n",
    "im = Image.open(\"5.gif\")\n",
    "\n",
    "iter = ImageSequence.Iterator(im)\n",
    "index = 1\n",
    "\n",
    "for frame in iter:\n",
    "    print(\"image %d: mode %s, size %s\" % (index, frame.mode, frame.size) )\n",
    "\n",
    "    frame.save(\"./imgs/frame%d.png\" % index)\n",
    "    index += 1"
   ]
  },
  {
   "cell_type": "code",
   "execution_count": 2,
   "metadata": {
    "collapsed": false,
    "deletable": true,
    "editable": true,
    "scrolled": true
   },
   "outputs": [],
   "source": [
    "imgs = [frame.copy() for frame in ImageSequence.Iterator(im)]\n",
    "imgs[0].save('out.gif', save_all=True, append_images=imgs[1:])\n",
    "imgs.reverse()\n",
    "imgs[0].save('./reverse_out.gif', save_all=True, append_images=imgs[1:])"
   ]
  },
  {
   "cell_type": "code",
   "execution_count": null,
   "metadata": {
    "collapsed": true,
    "deletable": true,
    "editable": true
   },
   "outputs": [],
   "source": []
  }
 ],
 "metadata": {
  "kernelspec": {
   "display_name": "Python 3",
   "language": "python",
   "name": "python3"
  },
  "language_info": {
   "codemirror_mode": {
    "name": "ipython",
    "version": 3
   },
   "file_extension": ".py",
   "mimetype": "text/x-python",
   "name": "python",
   "nbconvert_exporter": "python",
   "pygments_lexer": "ipython3",
   "version": "3.5.3"
  }
 },
 "nbformat": 4,
 "nbformat_minor": 2
}
